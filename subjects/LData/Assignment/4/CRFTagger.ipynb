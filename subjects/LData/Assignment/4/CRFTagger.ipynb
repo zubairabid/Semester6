{
 "cells": [
  {
   "cell_type": "code",
   "execution_count": 1,
   "metadata": {},
   "outputs": [],
   "source": [
    "import pickle"
   ]
  },
  {
   "cell_type": "code",
   "execution_count": 2,
   "metadata": {},
   "outputs": [],
   "source": [
    "train_sentences = []\n",
    "train_ancorra_tags = []\n",
    "train_features = []\n",
    "\n",
    "dev_sentences= []\n",
    "dev_ancorra_tags = []\n",
    "dev_features = []"
   ]
  },
  {
   "cell_type": "code",
   "execution_count": 3,
   "metadata": {},
   "outputs": [],
   "source": [
    "with open('Data/Training_sentences.pkl', 'rb') as f:\n",
    "    train_sentences = pickle.load(f)\n",
    "with open('Data/Training_ancorra_tags.pkl', 'rb') as f:\n",
    "    train_ancorra_tags = pickle.load(f)\n",
    "with open('Data/Training_features.pkl', 'rb') as f:\n",
    "    train_features = pickle.load(f)\n",
    "with open('Data/Development_sentences.pkl', 'rb') as f:\n",
    "    dev_sentences = pickle.load(f)\n",
    "with open('Data/Development_ancorra_tags.pkl', 'rb') as f:\n",
    "    dev_ancorra_tags = pickle.load(f)\n",
    "with open('Data/Development_features.pkl', 'rb') as f:\n",
    "    dev_features = pickle.load(f)\n"
   ]
  },
  {
   "cell_type": "code",
   "execution_count": null,
   "metadata": {},
   "outputs": [],
   "source": []
  },
  {
   "cell_type": "code",
   "execution_count": 112,
   "metadata": {},
   "outputs": [
    {
     "name": "stdout",
     "output_type": "stream",
     "text": [
      "CPU times: user 11min 28s, sys: 1.96 s, total: 11min 30s\n",
      "Wall time: 11min 34s\n"
     ]
    },
    {
     "data": {
      "text/plain": [
       "CRF(algorithm='lbfgs', all_possible_states=None, all_possible_transitions=True,\n",
       "    averaging=None, c=None, c1=0.01, c2=0.1, calibration_candidates=None,\n",
       "    calibration_eta=None, calibration_max_trials=None, calibration_rate=None,\n",
       "    calibration_samples=None, delta=None, epsilon=None, error_sensitive=None,\n",
       "    gamma=None, keep_tempfiles=None, linesearch=None, max_iterations=100,\n",
       "    max_linesearch=None, min_freq=None, model_filename=None, num_memories=None,\n",
       "    pa_type=None, period=None, trainer_cls=None, variance=None, verbose=False)"
      ]
     },
     "execution_count": 112,
     "metadata": {},
     "output_type": "execute_result"
    }
   ],
   "source": [
    "# %%time\n",
    "# from sklearn_crfsuite import CRF\n",
    "# crf = CRF(\n",
    "#     algorithm='lbfgs',\n",
    "#     c1=0.01,\n",
    "#     c2=0.1,\n",
    "#     max_iterations=100,\n",
    "#     all_possible_transitions=True\n",
    "# )\n",
    "# crf.fit(train_features, train_ancorra_tags)"
   ]
  },
  {
   "cell_type": "code",
   "execution_count": 4,
   "metadata": {},
   "outputs": [],
   "source": [
    "from sklearn_crfsuite import metrics\n",
    "from sklearn_crfsuite import scorers"
   ]
  },
  {
   "cell_type": "code",
   "execution_count": 5,
   "metadata": {},
   "outputs": [],
   "source": [
    "# pred_ancorra_tags = crf.predict(dev_features)\n",
    "# print(\"F1 score on Dev Data \")\n",
    "# print(metrics.flat_f1_score(dev_ancorra_tags, pred_ancorra_tags, average='weighted',labels=crf.classes_))\n",
    "\n",
    "# ### Look at class wise score\n",
    "# print(metrics.flat_classification_report(\n",
    "#     dev_ancorra_tags, pred_ancorra_tags, labels=crf.classes_, digits=3\n",
    "# ))"
   ]
  },
  {
   "cell_type": "code",
   "execution_count": 5,
   "metadata": {},
   "outputs": [],
   "source": [
    "test_sentences = []\n",
    "test_ancorra_tags = []\n",
    "test_features = []\n",
    "\n",
    "with open('Data/Testing_sentences.pkl', 'rb') as f:\n",
    "    test_sentences = pickle.load(f)\n",
    "with open('Data/Testing_ancorra_tags.pkl', 'rb') as f:\n",
    "    test_ancorra_tags = pickle.load(f)\n",
    "with open('Data/Testing_features.pkl', 'rb') as f:\n",
    "    test_features = pickle.load(f)"
   ]
  },
  {
   "cell_type": "code",
   "execution_count": 6,
   "metadata": {},
   "outputs": [],
   "source": [
    "import pickle\n",
    "with open('crf_model.pkl', 'rb') as f:\n",
    "    crf = pickle.load(f)\n",
    "    "
   ]
  },
  {
   "cell_type": "code",
   "execution_count": 7,
   "metadata": {},
   "outputs": [],
   "source": [
    "pred_test_ancorra_tags = crf.predict(test_features)"
   ]
  },
  {
   "cell_type": "code",
   "execution_count": 11,
   "metadata": {},
   "outputs": [],
   "source": [
    "from wxconv import WXC\n",
    "con = WXC(order='utf2wx')"
   ]
  },
  {
   "cell_type": "code",
   "execution_count": 15,
   "metadata": {},
   "outputs": [
    {
     "name": "stdout",
     "output_type": "stream",
     "text": [
      "--------------------------------------------------\n",
      "Incorrect tags:\n",
      "bijalI |correct: k2 ,incorrect: k1 \t\t\n",
      "bacegI |correct: nmod__relc ,incorrect: main \t\t\n",
      "grida |correct: k4 ,incorrect: k2 \t\t\n",
      "mila |correct: main ,incorrect: ccof \t\t\n",
      "Sentence:  jo bijalI bacegI vaha grida ko mila jAegI . \n",
      "--------------------------------------------------\n",
      "Incorrect tags:\n",
      "inameM |correct: k1 ,incorrect: k7 \t\t\n",
      "mahilAez |correct: ccof ,incorrect: k1 \t\t\n",
      "Ora |correct: k1s ,incorrect: main \t\t\n",
      "nAbAliga |correct: ccof ,incorrect: k1 \t\t\n",
      "Sentence:  inameM 119 mahilAez Ora 28 nAbAliga We . \n",
      "--------------------------------------------------\n",
      "Incorrect tags:\n",
      "uniyANA |correct: rsp ,incorrect: k5 \t\t\n",
      "rAMSI |correct: ccof ,incorrect: k1 \t\t\n",
      "waWA |correct: nmod ,incorrect: main \t\t\n",
      "gAMva |correct: ccof ,incorrect: k7p \t\t\n",
      "kimI |correct: ccof ,incorrect: k1s \t\t\n",
      "waWA |correct: k2 ,incorrect: ccof \t\t\n",
      "isake |correct: nmod ,incorrect: k7t \t\t\n",
      "kimI |correct: nmod ,incorrect: k1 \t\t\n",
      "caDZAI |correct: ccof ,incorrect: k2 \t\t\n",
      "maxamaheSvara |correct: r6-k1 ,incorrect: r6 \t\t\n",
      "Sentence:  uniyANA se rAMSI waWA gOMdAra gAMva waka ATa kimI waWA isake paScAwa 10 kimI KadZI caDZAI pAra kara maxamaheSvara ke xarSana howe hEM . \n",
      "--------------------------------------------------\n",
      "Incorrect tags:\n",
      "xasa |correct: k7t ,incorrect: k2 \t\t\n",
      "yaha |correct: k1 ,incorrect: k2 \t\t\n",
      "baniyAkuMda |correct: k2p ,incorrect: k1 \t\t\n",
      "waWA |correct: ccof ,incorrect: k1 \t\t\n",
      "wuMganAWa |correct: k2p ,incorrect: k1 \t\t\n",
      "Ora |correct: main ,incorrect: ccof \t\t\n",
      "kapAta |correct: k2 ,incorrect: k1 \t\t\n",
      "Sentence:  xasa ko yaha baniyAkuMda _NULL_ waWA 11 maI ko wuMganAWa pahuzcegI Ora kapAta Kola xie jAeMgeM . \n",
      "--------------------------------------------------\n",
      "Incorrect tags:\n",
      "ikvitI |correct: ccof ,incorrect: k2 \t\t\n",
      "dAkaGara |correct: nmod ,incorrect: k7 \t\t\n",
      "jamA |correct: ccof ,incorrect: pof \t\t\n",
      "Ora |correct: k1 ,incorrect: main \t\t\n",
      "enaesasI |correct: nmod ,incorrect: k7p \t\t\n",
      "niveSa |correct: ccof ,incorrect: k1 \t\t\n",
      "Sentence:  isameM ikvitI , dAkaGara meM jamA Ora enaesasI meM niveSa SAmila hEM . \n",
      "--------------------------------------------------\n",
      "Incorrect tags:\n",
      "aBivAxana |correct: pof ,incorrect: k1 \t\t\n",
      "karanA |correct: ccof ,incorrect: k2 \t\t\n",
      "va |correct: k2 ,incorrect: r6 \t\t\n",
      "namaskAra |correct: pof ,incorrect: ccof \t\t\n",
      "karanA |correct: ccof ,incorrect: k1 \t\t\n",
      "Sentence:  kvirio Jukakara aBivAxana karanA va namaskAra karanA BI jAnawA hE . \n",
      "--------------------------------------------------\n",
      "Incorrect tags:\n",
      "sUcanAez |correct: k2 ,incorrect: k1 \t\t\n",
      "kama |correct: vmod ,incorrect: k1s \t\t\n",
      "Sentence:  sUcanAez kama xo . \n",
      "--------------------------------------------------\n",
      "Incorrect tags:\n",
      "yaha |correct: k1 ,incorrect: k2 \t\t\n",
      "praSAsana |correct: ccof ,incorrect: k1 \t\t\n",
      "Ora |correct: rs ,incorrect: main \t\t\n",
      "Ayoga |correct: ccof ,incorrect: k1 \t\t\n",
      "cunOwI |correct: k1s ,incorrect: pof \t\t\n",
      "Sentence:  yaha praSAsana Ora Ayoga xonoM ke lie cunOwI hE . \n",
      "--------------------------------------------------\n",
      "Incorrect tags:\n",
      "isake |correct: vmod ,incorrect: rh \t\t\n",
      "ceharA |correct: ccof ,incorrect: k1s \t\t\n",
      "va |correct: k2 ,incorrect: main \t\t\n",
      "galA |correct: ccof ,incorrect: k2 \t\t\n",
      "Sentence:  isake calawe usakA ceharA va galA sUja gayA . \n",
      "--------------------------------------------------\n",
      "Incorrect tags:\n",
      "KemA |correct: k2 ,incorrect: k1 \t\t\n",
      "baxalA |correct: ccof ,incorrect: main \t\t\n",
      "Ora |correct: main ,incorrect: k2 \t\t\n",
      "BAjapA |correct: k2 ,incorrect: k1 \t\t\n",
      "rAjaxa |correct: k7 ,incorrect: k7p \t\t\n",
      "Sentence:  pAsavAna ne KemA baxalA Ora BAjapA CodZa rAjaxa meM A gae . \n",
      "--------------------------------------------------\n",
      "Incorrect tags:\n",
      "PEsalA |correct: k2 ,incorrect: pof \t\t\n",
      "xegI |correct: nmod__relc ,incorrect: main \t\t\n",
      "_NULL_ |correct: k2 ,incorrect: k7t \t\t\n",
      "unako |correct: k4a ,incorrect: k2 \t\t\n",
      "hogA |correct: main ,incorrect: ccof \t\t\n",
      "Sentence:  hAIkorta jo BI PEsalA xegI , _NULL_ unako maMjUra hogA . \n",
      "--------------------------------------------------\n",
      "Incorrect tags:\n",
      "mahilA |correct: ccof ,incorrect: k1 \t\t\n",
      "aWavA |correct: r6 ,incorrect: ccof \t\t\n",
      "ladZakI |correct: ccof ,incorrect: r6 \t\t\n",
      "xoRa |correct: k1 ,incorrect: pof \t\t\n",
      "howA |correct: ccof ,incorrect: main \t\t\n",
      "Sentence:  kyoMki isameM mahilA aWavA ladZakI kA xoRa nahIM howA . \n",
      "--------------------------------------------------\n",
      "Incorrect tags:\n",
      "kapilaxeva |correct: ccof ,incorrect: k1 \t\t\n",
      "va |correct: k1 ,incorrect: k2 \t\t\n",
      "pawnI |correct: ccof ,incorrect: nmod \t\t\n",
      "Sentence:  kapilaxeva va unakI pawnI avAka rahe . \n",
      "--------------------------------------------------\n",
      "Incorrect tags:\n",
      "praWA |correct: k1 ,incorrect: k2 \t\t\n",
      "pracaliwa |correct: k1s ,incorrect: pof \t\t\n",
      "hE |correct: nmod__relc ,incorrect: main \t\t\n",
      "vaha |correct: k1s ,incorrect: k1 \t\t\n",
      "hE |correct: main ,incorrect: ccof \t\t\n",
      "bali |correct: rs ,incorrect: k1 \t\t\n",
      "jisakA |correct: r6 ,incorrect: r6-k2 \t\t\n",
      "rUpa |correct: k1 ,incorrect: pof \t\t\n",
      "baxala |correct: nmod__relc ,incorrect: ccof \t\t\n",
      "Sentence:  muKya praWA jo maMxira meM pracaliwa hE vaha hE bali , jisakA rUpa varwamAna meM baxala gayA hE . \n"
     ]
    }
   ],
   "source": [
    "c = 0\n",
    "for i in range(len(test_ancorra_tags)):\n",
    "    total = len(test_ancorra_tags[i])\n",
    "    missed = 0\n",
    "    for j in range(total):\n",
    "        if test_ancorra_tags[i][j] != pred_test_ancorra_tags[i][j]:\n",
    "            missed += 1\n",
    "    if missed/total > 0.40:\n",
    "        c += 1\n",
    "        print('-'*50)\n",
    "        sentence = ''\n",
    "        print('Incorrect tags:')\n",
    "        for j in range(total):\n",
    "            sentence += con.convert(test_features[i][j]['word']) + ' '\n",
    "            if test_ancorra_tags[i][j] != pred_test_ancorra_tags[i][j]:\n",
    "                print(con.convert(test_features[i][j]['word']),'|correct:',test_ancorra_tags[i][j],',incorrect:',pred_test_ancorra_tags[i][j],'\\t\\t')\n",
    "        print(\"Sentence: \", sentence)"
   ]
  },
  {
   "cell_type": "code",
   "execution_count": 8,
   "metadata": {},
   "outputs": [
    {
     "name": "stdout",
     "output_type": "stream",
     "text": [
      "F1 score on Test Data \n",
      "0.870365103558353\n"
     ]
    },
    {
     "name": "stderr",
     "output_type": "stream",
     "text": [
      "/home/zubair/anaconda3/envs/NLP/lib/python3.6/site-packages/sklearn/metrics/classification.py:1437: UndefinedMetricWarning: F-score is ill-defined and being set to 0.0 in labels with no predicted samples.\n",
      "  'precision', 'predicted', average, warn_for)\n",
      "/home/zubair/anaconda3/envs/NLP/lib/python3.6/site-packages/sklearn/metrics/classification.py:1439: UndefinedMetricWarning: F-score is ill-defined and being set to 0.0 in labels with no true samples.\n",
      "  'recall', 'true', average, warn_for)\n",
      "/home/zubair/anaconda3/envs/NLP/lib/python3.6/site-packages/sklearn/metrics/classification.py:1437: UndefinedMetricWarning: Precision and F-score are ill-defined and being set to 0.0 in labels with no predicted samples.\n",
      "  'precision', 'predicted', average, warn_for)\n",
      "/home/zubair/anaconda3/envs/NLP/lib/python3.6/site-packages/sklearn/metrics/classification.py:1439: UndefinedMetricWarning: Recall and F-score are ill-defined and being set to 0.0 in labels with no true samples.\n",
      "  'recall', 'true', average, warn_for)\n"
     ]
    },
    {
     "name": "stdout",
     "output_type": "stream",
     "text": [
      "                precision    recall  f1-score   support\n",
      "\n",
      "       pof__cn      1.000     1.000     1.000      2701\n",
      "            r6      0.823     0.916     0.867      2287\n",
      "      lwg__psp      1.000     1.000     1.000      8143\n",
      "          nmod      0.656     0.580     0.616       698\n",
      "            k7      0.839     0.819     0.829      1169\n",
      "         r6-k2      0.423     0.217     0.286       277\n",
      "           pof      0.760     0.851     0.803      1508\n",
      "            rt      0.873     0.841     0.857       246\n",
      "       ras-pof      0.000     0.000     0.000         1\n",
      "          main      0.825     0.938     0.878      1804\n",
      "     lwg__vaux      1.000     1.000     1.000      1647\n",
      "lwg__vaux_cont      1.000     1.000     1.000       727\n",
      "          rsym      1.000     1.000     1.000      2753\n",
      "            k1      0.709     0.782     0.744      2302\n",
      "            k4      0.466     0.390     0.425       282\n",
      "            k2      0.656     0.632     0.644      1926\n",
      "          ccof      0.720     0.686     0.702      2490\n",
      "     nmod__adj      0.989     0.998     0.993      3017\n",
      "            rs      0.527     0.174     0.261       167\n",
      "        fragof      1.000     0.844     0.916        45\n",
      "           k7t      0.882     0.926     0.904       835\n",
      "           adv      0.901     0.835     0.866       206\n",
      "           k4a      0.067     0.037     0.048        27\n",
      "          vmod      0.878     0.771     0.821       420\n",
      "      sent-adv      0.733     0.750     0.742        44\n",
      "       lwg__rp      1.000     1.000     1.000       545\n",
      "      lwg__neg      1.000     1.000     1.000       199\n",
      "           k1s      0.517     0.428     0.468       346\n",
      "           mod      0.978     0.882     0.927       296\n",
      "           k2s      0.375     0.060     0.103        50\n",
      "    nmod__relc      0.545     0.047     0.086       129\n",
      "           k7p      0.724     0.771     0.747       595\n",
      "           rsp      0.650     0.619     0.634        21\n",
      "   jjmod__intf      1.000     1.000     1.000        28\n",
      "   nmod__k2inv      0.462     0.255     0.329        47\n",
      "           k2p      0.423     0.229     0.297        48\n",
      "        ras-k2      0.000     0.000     0.000        26\n",
      "    pof__redup      1.000     1.000     1.000        18\n",
      "            k5      0.468     0.663     0.549       166\n",
      "         r6-k1      0.000     0.000     0.000        28\n",
      "            rd      0.731     0.792     0.760        24\n",
      "        ras-k1      0.476     0.571     0.519        70\n",
      "           k7a      0.961     0.876     0.917       113\n",
      "         jjmod      0.458     0.239     0.314       113\n",
      "            rh      0.743     0.769     0.756       143\n",
      "            k3      0.650     0.413     0.505        63\n",
      "   nmod__k1inv      0.649     0.810     0.720       105\n",
      "           k2g      0.000     0.000     0.000         1\n",
      "       ras-neg      0.000     0.000     0.000         8\n",
      "   rbmod__relc      0.000     0.000     0.000         1\n",
      "       mod__wq      1.000     1.000     1.000         7\n",
      "    nmod__emph      0.833     1.000     0.909         5\n",
      "           k2u      0.667     0.500     0.571         4\n",
      "           k1u      1.000     0.143     0.250        14\n",
      "         rbmod      0.667     0.667     0.667         6\n",
      "        ras-r6      0.000     0.000     0.000         0\n",
      "           rtu      0.000     0.000     0.000         0\n",
      "           r6v      0.000     0.000     0.000         1\n",
      "           jk1      0.000     0.000     0.000         0\n",
      "           rad      0.000     0.000     0.000         0\n",
      "       psp__cl      0.000     0.000     0.000         0\n",
      "        ras-k7      0.000     0.000     0.000         3\n",
      "     vmod__adv      0.000     0.000     0.000         0\n",
      "           k7u      0.000     0.000     0.000         1\n",
      "        ras-k4      0.000     0.000     0.000         0\n",
      "  nmod__pofinv      0.000     0.000     0.000         3\n",
      "          k7pu      0.000     0.000     0.000         0\n",
      "       ras-k7p      0.000     0.000     0.000         2\n",
      "           pk1      0.000     0.000     0.000         0\n",
      "           k3u      0.000     0.000     0.000         0\n",
      "          k7tu      0.000     0.000     0.000         1\n",
      "       ras__k7      0.000     0.000     0.000         0\n",
      "   jjmod__relc      0.000     0.000     0.000         0\n",
      "           mk1      0.000     0.000     0.000         0\n",
      "           k4u      0.000     0.000     0.000         0\n",
      "     ras-r6-k2      0.000     0.000     0.000         0\n",
      "        ras-rt      0.000     0.000     0.000         0\n",
      "       ras-k4a      0.000     0.000     0.000         0\n",
      "           enm      0.000     0.000     0.000         0\n",
      "         undef      0.000     0.000     0.000         1\n",
      "\n",
      "     micro avg      0.876     0.876     0.876     38953\n",
      "     macro avg      0.459     0.421     0.428     38953\n",
      "  weighted avg      0.870     0.876     0.870     38953\n",
      "\n"
     ]
    }
   ],
   "source": [
    "print(\"F1 score on Test Data \")\n",
    "print(metrics.flat_f1_score(test_ancorra_tags, pred_test_ancorra_tags, average='weighted',labels=crf.classes_))\n",
    "### Look at class wise score\n",
    "print(metrics.flat_classification_report(\n",
    "    test_ancorra_tags, pred_test_ancorra_tags, labels=crf.classes_, digits=3\n",
    "))"
   ]
  },
  {
   "cell_type": "code",
   "execution_count": 117,
   "metadata": {},
   "outputs": [],
   "source": [
    "with open('crf_model.pkl', 'wb') as model:\n",
    "    pickle.dump(crf, model)"
   ]
  },
  {
   "cell_type": "code",
   "execution_count": null,
   "metadata": {},
   "outputs": [],
   "source": []
  },
  {
   "cell_type": "code",
   "execution_count": null,
   "metadata": {},
   "outputs": [],
   "source": []
  }
 ],
 "metadata": {
  "kernelspec": {
   "display_name": "Python 3",
   "language": "python",
   "name": "python3"
  },
  "language_info": {
   "codemirror_mode": {
    "name": "ipython",
    "version": 3
   },
   "file_extension": ".py",
   "mimetype": "text/x-python",
   "name": "python",
   "nbconvert_exporter": "python",
   "pygments_lexer": "ipython3",
   "version": "3.6.7"
  }
 },
 "nbformat": 4,
 "nbformat_minor": 4
}
