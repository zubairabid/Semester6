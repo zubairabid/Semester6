{
 "cells": [
  {
   "cell_type": "code",
   "execution_count": 72,
   "metadata": {},
   "outputs": [],
   "source": [
    "import pickle"
   ]
  },
  {
   "cell_type": "code",
   "execution_count": 104,
   "metadata": {},
   "outputs": [],
   "source": [
    "train_sentences = []\n",
    "train_ancorra_tags = []\n",
    "train_features = []\n",
    "\n",
    "dev_sentences= []\n",
    "dev_ancorra_tags = []\n",
    "dev_features = []"
   ]
  },
  {
   "cell_type": "code",
   "execution_count": 105,
   "metadata": {},
   "outputs": [],
   "source": [
    "with open('Data/Training_sentences.pkl', 'rb') as f:\n",
    "    train_sentences = pickle.load(f)\n",
    "with open('Data/Training_ancorra_tags.pkl', 'rb') as f:\n",
    "    train_ancorra_tags = pickle.load(f)\n",
    "with open('Data/Training_features.pkl', 'rb') as f:\n",
    "    train_features = pickle.load(f)\n",
    "with open('Data/Development_sentences.pkl', 'rb') as f:\n",
    "    dev_sentences = pickle.load(f)\n",
    "with open('Data/Development_ancorra_tags.pkl', 'rb') as f:\n",
    "    dev_ancorra_tags = pickle.load(f)\n",
    "with open('Data/Development_features.pkl', 'rb') as f:\n",
    "    dev_features = pickle.load(f)\n"
   ]
  },
  {
   "cell_type": "code",
   "execution_count": null,
   "metadata": {},
   "outputs": [],
   "source": []
  },
  {
   "cell_type": "code",
   "execution_count": 112,
   "metadata": {},
   "outputs": [
    {
     "name": "stdout",
     "output_type": "stream",
     "text": [
      "CPU times: user 11min 28s, sys: 1.96 s, total: 11min 30s\n",
      "Wall time: 11min 34s\n"
     ]
    },
    {
     "data": {
      "text/plain": [
       "CRF(algorithm='lbfgs', all_possible_states=None, all_possible_transitions=True,\n",
       "    averaging=None, c=None, c1=0.01, c2=0.1, calibration_candidates=None,\n",
       "    calibration_eta=None, calibration_max_trials=None, calibration_rate=None,\n",
       "    calibration_samples=None, delta=None, epsilon=None, error_sensitive=None,\n",
       "    gamma=None, keep_tempfiles=None, linesearch=None, max_iterations=100,\n",
       "    max_linesearch=None, min_freq=None, model_filename=None, num_memories=None,\n",
       "    pa_type=None, period=None, trainer_cls=None, variance=None, verbose=False)"
      ]
     },
     "execution_count": 112,
     "metadata": {},
     "output_type": "execute_result"
    }
   ],
   "source": [
    "%%time\n",
    "from sklearn_crfsuite import CRF\n",
    "crf = CRF(\n",
    "    algorithm='lbfgs',\n",
    "    c1=0.01,\n",
    "    c2=0.1,\n",
    "    max_iterations=100,\n",
    "    all_possible_transitions=True\n",
    ")\n",
    "crf.fit(train_features, train_ancorra_tags)"
   ]
  },
  {
   "cell_type": "code",
   "execution_count": 113,
   "metadata": {},
   "outputs": [],
   "source": [
    "from sklearn_crfsuite import metrics\n",
    "from sklearn_crfsuite import scorers"
   ]
  },
  {
   "cell_type": "code",
   "execution_count": 114,
   "metadata": {},
   "outputs": [
    {
     "name": "stdout",
     "output_type": "stream",
     "text": [
      "F1 score on Dev Data \n",
      "0.8673470905135373\n",
      "                precision    recall  f1-score   support\n",
      "\n",
      "       pof__cn      1.000     1.000     1.000      2465\n",
      "            r6      0.777     0.924     0.845      2066\n",
      "      lwg__psp      1.000     1.000     1.000      7810\n",
      "          nmod      0.683     0.608     0.643       635\n",
      "            k7      0.846     0.838     0.842      1170\n",
      "         r6-k2      0.388     0.156     0.222       334\n",
      "           pof      0.739     0.858     0.794      1433\n",
      "            rt      0.856     0.853     0.854       285\n",
      "       ras-pof      0.000     0.000     0.000         1\n",
      "          main      0.823     0.940     0.878      1743\n",
      "     lwg__vaux      1.000     1.000     1.000      1657\n",
      "lwg__vaux_cont      1.000     1.000     1.000       689\n",
      "          rsym      1.000     1.000     1.000      2575\n",
      "            k1      0.742     0.767     0.754      2369\n",
      "            k4      0.519     0.394     0.448       274\n",
      "            k2      0.631     0.668     0.649      1800\n",
      "          ccof      0.740     0.680     0.708      2475\n",
      "     nmod__adj      0.985     0.997     0.991      3071\n",
      "            rs      0.471     0.147     0.224       163\n",
      "        fragof      1.000     0.882     0.938        34\n",
      "           k7t      0.915     0.927     0.921       756\n",
      "           adv      0.792     0.780     0.786       200\n",
      "           k4a      0.235     0.108     0.148        37\n",
      "          vmod      0.847     0.751     0.796       458\n",
      "      sent-adv      0.826     0.884     0.854        43\n",
      "       lwg__rp      0.998     1.000     0.999       547\n",
      "      lwg__neg      1.000     1.000     1.000       223\n",
      "           k1s      0.576     0.460     0.511       339\n",
      "           mod      0.967     0.842     0.900       310\n",
      "           k2s      0.000     0.000     0.000        76\n",
      "    nmod__relc      0.167     0.022     0.039       134\n",
      "           k7p      0.691     0.752     0.720       488\n",
      "           rsp      0.100     0.143     0.118         7\n",
      "   jjmod__intf      1.000     1.000     1.000        33\n",
      "   nmod__k2inv      0.600     0.484     0.536        31\n",
      "           k2p      0.286     0.200     0.235        30\n",
      "        ras-k2      0.000     0.000     0.000        15\n",
      "    pof__redup      1.000     1.000     1.000        27\n",
      "            k5      0.373     0.473     0.417       146\n",
      "         r6-k1      0.000     0.000     0.000        39\n",
      "            rd      0.875     0.814     0.843        43\n",
      "        ras-k1      0.507     0.567     0.535        67\n",
      "           k7a      0.926     0.853     0.888       102\n",
      "         jjmod      0.406     0.205     0.272       127\n",
      "            rh      0.731     0.777     0.753       157\n",
      "            k3      0.618     0.368     0.462        57\n",
      "   nmod__k1inv      0.840     0.840     0.840       144\n",
      "           k2g      0.000     0.000     0.000         5\n",
      "       ras-neg      1.000     0.429     0.600         7\n",
      "   rbmod__relc      0.000     0.000     0.000         4\n",
      "       mod__wq      1.000     1.000     1.000         2\n",
      "    nmod__emph      0.857     0.857     0.857         7\n",
      "           k2u      0.000     0.000     0.000         6\n",
      "           k1u      0.625     0.333     0.435        15\n",
      "         rbmod      0.667     1.000     0.800         2\n",
      "        ras-r6      0.000     0.000     0.000         0\n",
      "           rtu      0.000     0.000     0.000         0\n",
      "           r6v      0.000     0.000     0.000         1\n",
      "           jk1      0.000     0.000     0.000         0\n",
      "           rad      0.000     0.000     0.000         1\n",
      "       psp__cl      0.000     0.000     0.000         0\n",
      "        ras-k7      0.000     0.000     0.000         0\n",
      "     vmod__adv      0.000     0.000     0.000         0\n",
      "           k7u      0.000     0.000     0.000         0\n",
      "        ras-k4      0.000     0.000     0.000         0\n",
      "  nmod__pofinv      0.000     0.000     0.000         0\n",
      "          k7pu      0.000     0.000     0.000         0\n",
      "       ras-k7p      0.000     0.000     0.000         0\n",
      "           pk1      0.000     0.000     0.000         0\n",
      "           k3u      0.000     0.000     0.000         0\n",
      "          k7tu      0.000     0.000     0.000         0\n",
      "       ras__k7      0.000     0.000     0.000         0\n",
      "   jjmod__relc      0.000     0.000     0.000         0\n",
      "           mk1      0.000     0.000     0.000         0\n",
      "           k4u      0.000     0.000     0.000         0\n",
      "     ras-r6-k2      0.000     0.000     0.000         0\n",
      "        ras-rt      0.000     0.000     0.000         0\n",
      "       ras-k4a      0.000     0.000     0.000         0\n",
      "           enm      0.000     0.000     0.000         0\n",
      "         undef      0.000     0.000     0.000         1\n",
      "\n",
      "     micro avg      0.874     0.874     0.874     37736\n",
      "     macro avg      0.445     0.420     0.426     37736\n",
      "  weighted avg      0.865     0.874     0.867     37736\n",
      "\n"
     ]
    }
   ],
   "source": [
    "pred_ancorra_tags = crf.predict(dev_features)\n",
    "print(\"F1 score on Dev Data \")\n",
    "print(metrics.flat_f1_score(dev_ancorra_tags, pred_ancorra_tags, average='weighted',labels=crf.classes_))\n",
    "\n",
    "### Look at class wise score\n",
    "print(metrics.flat_classification_report(\n",
    "    dev_ancorra_tags, pred_ancorra_tags, labels=crf.classes_, digits=3\n",
    "))"
   ]
  },
  {
   "cell_type": "code",
   "execution_count": 115,
   "metadata": {},
   "outputs": [],
   "source": [
    "test_sentences = []\n",
    "test_ancorra_tags = []\n",
    "test_features = []\n",
    "\n",
    "with open('Data/Testing_sentences.pkl', 'rb') as f:\n",
    "    test_sentences = pickle.load(f)\n",
    "with open('Data/Testing_ancorra_tags.pkl', 'rb') as f:\n",
    "    test_ancorra_tags = pickle.load(f)\n",
    "with open('Data/Testing_features.pkl', 'rb') as f:\n",
    "    test_features = pickle.load(f)"
   ]
  },
  {
   "cell_type": "code",
   "execution_count": 116,
   "metadata": {},
   "outputs": [
    {
     "name": "stdout",
     "output_type": "stream",
     "text": [
      "F1 score on Test Data \n",
      "0.870365103558353\n",
      "                precision    recall  f1-score   support\n",
      "\n",
      "       pof__cn      1.000     1.000     1.000      2701\n",
      "            r6      0.823     0.916     0.867      2287\n",
      "      lwg__psp      1.000     1.000     1.000      8143\n",
      "          nmod      0.656     0.580     0.616       698\n",
      "            k7      0.839     0.819     0.829      1169\n",
      "         r6-k2      0.423     0.217     0.286       277\n",
      "           pof      0.760     0.851     0.803      1508\n",
      "            rt      0.873     0.841     0.857       246\n",
      "       ras-pof      0.000     0.000     0.000         1\n",
      "          main      0.825     0.938     0.878      1804\n",
      "     lwg__vaux      1.000     1.000     1.000      1647\n",
      "lwg__vaux_cont      1.000     1.000     1.000       727\n",
      "          rsym      1.000     1.000     1.000      2753\n",
      "            k1      0.709     0.782     0.744      2302\n",
      "            k4      0.466     0.390     0.425       282\n",
      "            k2      0.656     0.632     0.644      1926\n",
      "          ccof      0.720     0.686     0.702      2490\n",
      "     nmod__adj      0.989     0.998     0.993      3017\n",
      "            rs      0.527     0.174     0.261       167\n",
      "        fragof      1.000     0.844     0.916        45\n",
      "           k7t      0.882     0.926     0.904       835\n",
      "           adv      0.901     0.835     0.866       206\n",
      "           k4a      0.067     0.037     0.048        27\n",
      "          vmod      0.878     0.771     0.821       420\n",
      "      sent-adv      0.733     0.750     0.742        44\n",
      "       lwg__rp      1.000     1.000     1.000       545\n",
      "      lwg__neg      1.000     1.000     1.000       199\n",
      "           k1s      0.517     0.428     0.468       346\n",
      "           mod      0.978     0.882     0.927       296\n",
      "           k2s      0.375     0.060     0.103        50\n",
      "    nmod__relc      0.545     0.047     0.086       129\n",
      "           k7p      0.724     0.771     0.747       595\n",
      "           rsp      0.650     0.619     0.634        21\n",
      "   jjmod__intf      1.000     1.000     1.000        28\n",
      "   nmod__k2inv      0.462     0.255     0.329        47\n",
      "           k2p      0.423     0.229     0.297        48\n",
      "        ras-k2      0.000     0.000     0.000        26\n",
      "    pof__redup      1.000     1.000     1.000        18\n",
      "            k5      0.468     0.663     0.549       166\n",
      "         r6-k1      0.000     0.000     0.000        28\n",
      "            rd      0.731     0.792     0.760        24\n",
      "        ras-k1      0.476     0.571     0.519        70\n",
      "           k7a      0.961     0.876     0.917       113\n",
      "         jjmod      0.458     0.239     0.314       113\n",
      "            rh      0.743     0.769     0.756       143\n",
      "            k3      0.650     0.413     0.505        63\n",
      "   nmod__k1inv      0.649     0.810     0.720       105\n",
      "           k2g      0.000     0.000     0.000         1\n",
      "       ras-neg      0.000     0.000     0.000         8\n",
      "   rbmod__relc      0.000     0.000     0.000         1\n",
      "       mod__wq      1.000     1.000     1.000         7\n",
      "    nmod__emph      0.833     1.000     0.909         5\n",
      "           k2u      0.667     0.500     0.571         4\n",
      "           k1u      1.000     0.143     0.250        14\n",
      "         rbmod      0.667     0.667     0.667         6\n",
      "        ras-r6      0.000     0.000     0.000         0\n",
      "           rtu      0.000     0.000     0.000         0\n",
      "           r6v      0.000     0.000     0.000         1\n",
      "           jk1      0.000     0.000     0.000         0\n",
      "           rad      0.000     0.000     0.000         0\n",
      "       psp__cl      0.000     0.000     0.000         0\n",
      "        ras-k7      0.000     0.000     0.000         3\n",
      "     vmod__adv      0.000     0.000     0.000         0\n",
      "           k7u      0.000     0.000     0.000         1\n",
      "        ras-k4      0.000     0.000     0.000         0\n",
      "  nmod__pofinv      0.000     0.000     0.000         3\n",
      "          k7pu      0.000     0.000     0.000         0\n",
      "       ras-k7p      0.000     0.000     0.000         2\n",
      "           pk1      0.000     0.000     0.000         0\n",
      "           k3u      0.000     0.000     0.000         0\n",
      "          k7tu      0.000     0.000     0.000         1\n",
      "       ras__k7      0.000     0.000     0.000         0\n",
      "   jjmod__relc      0.000     0.000     0.000         0\n",
      "           mk1      0.000     0.000     0.000         0\n",
      "           k4u      0.000     0.000     0.000         0\n",
      "     ras-r6-k2      0.000     0.000     0.000         0\n",
      "        ras-rt      0.000     0.000     0.000         0\n",
      "       ras-k4a      0.000     0.000     0.000         0\n",
      "           enm      0.000     0.000     0.000         0\n",
      "         undef      0.000     0.000     0.000         1\n",
      "\n",
      "     micro avg      0.876     0.876     0.876     38953\n",
      "     macro avg      0.459     0.421     0.428     38953\n",
      "  weighted avg      0.870     0.876     0.870     38953\n",
      "\n"
     ]
    }
   ],
   "source": [
    "pred_test_ancorra_tags = crf.predict(test_features)\n",
    "print(\"F1 score on Test Data \")\n",
    "print(metrics.flat_f1_score(test_ancorra_tags, pred_test_ancorra_tags, average='weighted',labels=crf.classes_))\n",
    "### Look at class wise score\n",
    "print(metrics.flat_classification_report(\n",
    "    test_ancorra_tags, pred_test_ancorra_tags, labels=crf.classes_, digits=3\n",
    "))"
   ]
  },
  {
   "cell_type": "code",
   "execution_count": 111,
   "metadata": {},
   "outputs": [],
   "source": [
    "with open('crf_model.pkl', 'wb') as model:\n",
    "    pickle.dump(crf, model)"
   ]
  },
  {
   "cell_type": "code",
   "execution_count": null,
   "metadata": {},
   "outputs": [],
   "source": []
  },
  {
   "cell_type": "code",
   "execution_count": null,
   "metadata": {},
   "outputs": [],
   "source": []
  }
 ],
 "metadata": {
  "kernelspec": {
   "display_name": "Python 3",
   "language": "python",
   "name": "python3"
  },
  "language_info": {
   "codemirror_mode": {
    "name": "ipython",
    "version": 3
   },
   "file_extension": ".py",
   "mimetype": "text/x-python",
   "name": "python",
   "nbconvert_exporter": "python",
   "pygments_lexer": "ipython3",
   "version": "3.6.7"
  }
 },
 "nbformat": 4,
 "nbformat_minor": 4
}
