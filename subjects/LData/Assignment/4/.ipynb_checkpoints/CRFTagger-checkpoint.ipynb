{
 "cells": [
  {
   "cell_type": "code",
   "execution_count": 72,
   "metadata": {},
   "outputs": [],
   "source": [
    "import pickle"
   ]
  },
  {
   "cell_type": "code",
   "execution_count": 104,
   "metadata": {},
   "outputs": [],
   "source": [
    "train_sentences = []\n",
    "train_ancorra_tags = []\n",
    "train_features = []\n",
    "\n",
    "dev_sentences= []\n",
    "dev_ancorra_tags = []\n",
    "dev_features = []"
   ]
  },
  {
   "cell_type": "code",
   "execution_count": 105,
   "metadata": {},
   "outputs": [],
   "source": [
    "with open('Data/Training_sentences.pkl', 'rb') as f:\n",
    "    train_sentences = pickle.load(f)\n",
    "with open('Data/Training_ancorra_tags.pkl', 'rb') as f:\n",
    "    train_ancorra_tags = pickle.load(f)\n",
    "with open('Data/Training_features.pkl', 'rb') as f:\n",
    "    train_features = pickle.load(f)\n",
    "with open('Data/Development_sentences.pkl', 'rb') as f:\n",
    "    dev_sentences = pickle.load(f)\n",
    "with open('Data/Development_ancorra_tags.pkl', 'rb') as f:\n",
    "    dev_ancorra_tags = pickle.load(f)\n",
    "with open('Data/Development_features.pkl', 'rb') as f:\n",
    "    dev_features = pickle.load(f)\n"
   ]
  },
  {
   "cell_type": "code",
   "execution_count": null,
   "metadata": {},
   "outputs": [],
   "source": []
  },
  {
   "cell_type": "code",
   "execution_count": 106,
   "metadata": {},
   "outputs": [
    {
     "name": "stdout",
     "output_type": "stream",
     "text": [
      "CPU times: user 49.9 s, sys: 81.9 ms, total: 49.9 s\n",
      "Wall time: 50.6 s\n"
     ]
    },
    {
     "data": {
      "text/plain": [
       "CRF(algorithm='lbfgs', all_possible_states=None, all_possible_transitions=True,\n",
       "    averaging=None, c=None, c1=0.01, c2=0.1, calibration_candidates=None,\n",
       "    calibration_eta=None, calibration_max_trials=None, calibration_rate=None,\n",
       "    calibration_samples=None, delta=None, epsilon=None, error_sensitive=None,\n",
       "    gamma=None, keep_tempfiles=None, linesearch=None, max_iterations=100,\n",
       "    max_linesearch=None, min_freq=None, model_filename=None, num_memories=None,\n",
       "    pa_type=None, period=None, trainer_cls=None, variance=None, verbose=False)"
      ]
     },
     "execution_count": 106,
     "metadata": {},
     "output_type": "execute_result"
    }
   ],
   "source": [
    "%%time\n",
    "from sklearn_crfsuite import CRF\n",
    "crf = CRF(\n",
    "    algorithm='lbfgs',\n",
    "    c1=0.01,\n",
    "    c2=0.1,\n",
    "    max_iterations=100,\n",
    "    all_possible_transitions=True\n",
    ")\n",
    "crf.fit(train_features, train_ancorra_tags)"
   ]
  },
  {
   "cell_type": "code",
   "execution_count": 107,
   "metadata": {},
   "outputs": [],
   "source": [
    "from sklearn_crfsuite import metrics\n",
    "from sklearn_crfsuite import scorers"
   ]
  },
  {
   "cell_type": "code",
   "execution_count": 108,
   "metadata": {},
   "outputs": [],
   "source": [
    "pred_ancorra_tags = crf.predict(dev_features)\n",
    "print(\"F1 score on Dev Data \")\n",
    "print(metrics.flat_f1_score(dev_ancorra_tags, pred_ancorra_tags, average='weighted',labels=crf.classes_))\n",
    "\n",
    "### Look at class wise score\n",
    "print(metrics.flat_classification_report(\n",
    "    dev_ancorra_tags, pred_ancorra_tags, labels=crf.classes_, digits=3\n",
    "))"
   ]
  },
  {
   "cell_type": "code",
   "execution_count": 109,
   "metadata": {},
   "outputs": [],
   "source": [
    "test_sentences = []\n",
    "test_ancorra_tags = []\n",
    "test_features = []\n",
    "\n",
    "with open('Data/Testing_sentences.pkl', 'rb') as f:\n",
    "    test_sentences = pickle.load(f)\n",
    "with open('Data/Testing_ancorra_tags.pkl', 'rb') as f:\n",
    "    test_ancorra_tags = pickle.load(f)\n",
    "with open('Data/Testing_features.pkl', 'rb') as f:\n",
    "    test_features = pickle.load(f)"
   ]
  },
  {
   "cell_type": "code",
   "execution_count": 110,
   "metadata": {},
   "outputs": [
    {
     "name": "stdout",
     "output_type": "stream",
     "text": [
      "F1 score on Test Data \n",
      "0.8553389994103174\n",
      "                precision    recall  f1-score   support\n",
      "\n",
      "     nmod__adj      0.989     0.997     0.993      3017\n",
      "            r6      0.827     0.922     0.872      2287\n",
      "      lwg__psp      1.000     1.000     1.000      8143\n",
      "          ccof      0.702     0.666     0.684      2490\n",
      "       pof__cn      1.000     1.000     1.000      2701\n",
      "          nmod      0.651     0.520     0.578       698\n",
      "            k2      0.607     0.606     0.607      1926\n",
      "            k7      0.758     0.838     0.796      1169\n",
      "           adv      0.786     0.820     0.803       206\n",
      "          main      0.821     0.927     0.871      1804\n",
      "     lwg__vaux      0.999     1.000     1.000      1647\n",
      "lwg__vaux_cont      0.999     1.000     0.999       727\n",
      "          rsym      0.999     1.000     1.000      2753\n",
      "           k7t      0.858     0.880     0.869       835\n",
      "           k7p      0.723     0.627     0.671       595\n",
      "            k1      0.690     0.772     0.729      2302\n",
      "         r6-k2      0.391     0.155     0.222       277\n",
      "           pof      0.700     0.814     0.752      1508\n",
      "    nmod__relc      0.174     0.031     0.053       129\n",
      "       lwg__rp      1.000     1.000     1.000       545\n",
      "           k1s      0.449     0.332     0.382       346\n",
      "          vmod      0.833     0.750     0.789       420\n",
      "           mod      0.956     0.875     0.914       296\n",
      "            k4      0.402     0.344     0.371       282\n",
      "            k3      0.690     0.317     0.435        63\n",
      "           k4a      0.000     0.000     0.000        27\n",
      "            rh      0.696     0.671     0.683       143\n",
      "      lwg__neg      1.000     1.000     1.000       199\n",
      "           k2s      0.000     0.000     0.000        50\n",
      "      sent-adv      0.732     0.682     0.706        44\n",
      "            rt      0.841     0.837     0.839       246\n",
      "         jjmod      0.242     0.142     0.179       113\n",
      "            k5      0.354     0.446     0.395       166\n",
      "           k7a      0.969     0.823     0.890       113\n",
      "   nmod__k1inv      0.614     0.819     0.702       105\n",
      "            rs      0.356     0.126     0.186       167\n",
      "   rbmod__relc      0.000     0.000     0.000         1\n",
      "           k1u      0.333     0.071     0.118        14\n",
      "        ras-k1      0.507     0.543     0.524        70\n",
      "   nmod__k2inv      0.348     0.170     0.229        47\n",
      "            rd      0.750     0.750     0.750        24\n",
      "         r6-k1      0.000     0.000     0.000        28\n",
      "    pof__redup      1.000     1.000     1.000        18\n",
      "   jjmod__intf      1.000     1.000     1.000        28\n",
      "        ras-k2      0.000     0.000     0.000        26\n",
      "       ras-neg      0.000     0.000     0.000         8\n",
      "        fragof      1.000     0.800     0.889        45\n",
      "           k2p      0.143     0.021     0.036        48\n",
      "           k2u      0.000     0.000     0.000         4\n",
      "         rbmod      1.000     0.333     0.500         6\n",
      "           rad      0.000     0.000     0.000         0\n",
      "           k2g      0.000     0.000     0.000         1\n",
      "           r6v      0.000     0.000     0.000         1\n",
      "           rsp      0.000     0.000     0.000        21\n",
      "       ras-pof      0.000     0.000     0.000         1\n",
      "         undef      0.000     0.000     0.000         1\n",
      "       mod__wq      1.000     0.571     0.727         7\n",
      "    nmod__emph      0.800     0.800     0.800         5\n",
      "\n",
      "     micro avg      0.862     0.862     0.862     38943\n",
      "     macro avg      0.564     0.514     0.527     38943\n",
      "  weighted avg      0.853     0.862     0.855     38943\n",
      "\n"
     ]
    }
   ],
   "source": [
    "pred_test_ancorra_tags = crf.predict(test_features)\n",
    "print(\"F1 score on Test Data \")\n",
    "print(metrics.flat_f1_score(test_ancorra_tags, pred_test_ancorra_tags, average='weighted',labels=crf.classes_))\n",
    "### Look at class wise score\n",
    "print(metrics.flat_classification_report(\n",
    "    test_ancorra_tags, pred_test_ancorra_tags, labels=crf.classes_, digits=3\n",
    "))"
   ]
  },
  {
   "cell_type": "code",
   "execution_count": 111,
   "metadata": {},
   "outputs": [],
   "source": [
    "# with open('crf_model.pkl', 'wb') as model:\n",
    "#     pickle.dump(crf, model)"
   ]
  },
  {
   "cell_type": "code",
   "execution_count": null,
   "metadata": {},
   "outputs": [],
   "source": []
  },
  {
   "cell_type": "code",
   "execution_count": null,
   "metadata": {},
   "outputs": [],
   "source": []
  }
 ],
 "metadata": {
  "kernelspec": {
   "display_name": "Python 3",
   "language": "python",
   "name": "python3"
  },
  "language_info": {
   "codemirror_mode": {
    "name": "ipython",
    "version": 3
   },
   "file_extension": ".py",
   "mimetype": "text/x-python",
   "name": "python",
   "nbconvert_exporter": "python",
   "pygments_lexer": "ipython3",
   "version": "3.6.7"
  }
 },
 "nbformat": 4,
 "nbformat_minor": 4
}
