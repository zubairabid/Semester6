{
 "cells": [
  {
   "cell_type": "code",
   "execution_count": 4,
   "metadata": {},
   "outputs": [],
   "source": [
    "import pickle"
   ]
  },
  {
   "cell_type": "code",
   "execution_count": 5,
   "metadata": {},
   "outputs": [],
   "source": [
    "train_sentences = []\n",
    "train_ud_tags = []\n",
    "train_features = []\n",
    "\n",
    "dev_sentences= []\n",
    "dev_ud_tags = []\n",
    "dev_features = []"
   ]
  },
  {
   "cell_type": "code",
   "execution_count": 6,
   "metadata": {},
   "outputs": [],
   "source": [
    "with open('Data/Training_sentences.pkl', 'rb') as f:\n",
    "    train_sentences = pickle.load(f)\n",
    "with open('Data/Training_ud_tags.pkl', 'rb') as f:\n",
    "    train_ud_tags = pickle.load(f)\n",
    "with open('Data/Training_features.pkl', 'rb') as f:\n",
    "    train_features = pickle.load(f)\n",
    "with open('Data/Development_sentences.pkl', 'rb') as f:\n",
    "    dev_sentences = pickle.load(f)\n",
    "with open('Data/Development_ud_tags.pkl', 'rb') as f:\n",
    "    dev_ud_tags = pickle.load(f)\n",
    "with open('Data/Development_features.pkl', 'rb') as f:\n",
    "    dev_features = pickle.load(f)\n"
   ]
  },
  {
   "cell_type": "code",
   "execution_count": null,
   "metadata": {},
   "outputs": [],
   "source": []
  },
  {
   "cell_type": "code",
   "execution_count": 7,
   "metadata": {},
   "outputs": [
    {
     "name": "stdout",
     "output_type": "stream",
     "text": [
      "CPU times: user 1min 24s, sys: 378 ms, total: 1min 25s\n",
      "Wall time: 1min 25s\n"
     ]
    },
    {
     "data": {
      "text/plain": [
       "CRF(algorithm='lbfgs', all_possible_states=None, all_possible_transitions=True,\n",
       "    averaging=None, c=None, c1=0.01, c2=0.1, calibration_candidates=None,\n",
       "    calibration_eta=None, calibration_max_trials=None, calibration_rate=None,\n",
       "    calibration_samples=None, delta=None, epsilon=None, error_sensitive=None,\n",
       "    gamma=None, keep_tempfiles=None, linesearch=None, max_iterations=100,\n",
       "    max_linesearch=None, min_freq=None, model_filename=None, num_memories=None,\n",
       "    pa_type=None, period=None, trainer_cls=None, variance=None, verbose=False)"
      ]
     },
     "execution_count": 7,
     "metadata": {},
     "output_type": "execute_result"
    }
   ],
   "source": [
    "%%time\n",
    "from sklearn_crfsuite import CRF\n",
    "crf = CRF(\n",
    "    algorithm='lbfgs',\n",
    "    c1=0.01,\n",
    "    c2=0.1,\n",
    "    max_iterations=100,\n",
    "    all_possible_transitions=True\n",
    ")\n",
    "crf.fit(train_features, train_ud_tags)"
   ]
  },
  {
   "cell_type": "code",
   "execution_count": 8,
   "metadata": {},
   "outputs": [],
   "source": [
    "from sklearn_crfsuite import metrics\n",
    "from sklearn_crfsuite import scorers"
   ]
  },
  {
   "cell_type": "code",
   "execution_count": 16,
   "metadata": {},
   "outputs": [
    {
     "name": "stdout",
     "output_type": "stream",
     "text": [
      "compound compound रामायण\n",
      "obl obl काल\n",
      "case case में\n",
      "compound compound भगवान\n",
      "nmod nmod राम\n",
      "case case के\n",
      "nmod nmod पुत्र\n",
      "nmod nmod कुश\n",
      "case case की\n",
      "nmod nmod राजधानी\n",
      "obj obj कुशावती\n",
      "case case को\n",
      "compound compound 483\n",
      "compound compound ईसा\n",
      "conj obl पूर्व\n",
      "nsubj nsubj बुद्ध\n",
      "case case ने\n",
      "nmod nmod अपने\n",
      "amod amod अंतिम\n",
      "obl obl विश्राम\n",
      "case case के\n",
      "case case लिए\n",
      "root root चुना\n",
      "punct punct ।\n"
     ]
    }
   ],
   "source": [
    "for i in range(len(pred_ud_tags[0])):\n",
    "    print(pred_ud_tags[0][i], dev_ud_tags[0][i], dev_features[0][i]['word'])"
   ]
  },
  {
   "cell_type": "code",
   "execution_count": 9,
   "metadata": {},
   "outputs": [
    {
     "name": "stdout",
     "output_type": "stream",
     "text": [
      "F1 score on Dev Data \n",
      "0.8926272915398897\n"
     ]
    },
    {
     "name": "stderr",
     "output_type": "stream",
     "text": [
      "/home/zubair/anaconda3/envs/NLP/lib/python3.6/site-packages/sklearn/metrics/classification.py:1437: UndefinedMetricWarning: F-score is ill-defined and being set to 0.0 in labels with no predicted samples.\n",
      "  'precision', 'predicted', average, warn_for)\n",
      "/home/zubair/anaconda3/envs/NLP/lib/python3.6/site-packages/sklearn/metrics/classification.py:1437: UndefinedMetricWarning: Precision and F-score are ill-defined and being set to 0.0 in labels with no predicted samples.\n",
      "  'precision', 'predicted', average, warn_for)\n"
     ]
    },
    {
     "name": "stdout",
     "output_type": "stream",
     "text": [
      "              precision    recall  f1-score   support\n",
      "\n",
      "         det      0.998     1.000     0.999       662\n",
      "        nmod      0.867     0.847     0.857      3508\n",
      "        case      0.999     0.999     0.999      6792\n",
      "      advmod      0.931     0.924     0.927       353\n",
      "        amod      0.976     0.981     0.979      1501\n",
      "        root      0.917     0.919     0.918      1659\n",
      "         cop      0.875     0.975     0.922       396\n",
      "       punct      0.999     0.998     0.999      2372\n",
      "         obj      0.575     0.605     0.590      1725\n",
      "    compound      0.911     0.954     0.932      3673\n",
      "       nsubj      0.768     0.734     0.750      2080\n",
      "         aux      0.941     0.914     0.928      1127\n",
      "      nummod      0.981     0.991     0.986       568\n",
      "          cc      0.999     0.997     0.998       693\n",
      "         obl      0.814     0.908     0.858      3029\n",
      "       advcl      0.816     0.797     0.807       434\n",
      "        mark      0.996     0.998     0.997      1400\n",
      "        conj      0.539     0.412     0.467       794\n",
      "         acl      0.790     0.502     0.614       315\n",
      "         dep      0.985     0.998     0.991       523\n",
      "   acl:relcl      0.212     0.092     0.129       119\n",
      "    aux:pass      0.914     0.942     0.928      1095\n",
      "  dislocated      0.969     0.886     0.925        35\n",
      "  nsubj:pass      0.391     0.220     0.281        41\n",
      "       xcomp      0.237     0.143     0.178        63\n",
      "        iobj      0.552     0.386     0.455       259\n",
      "    vocative      0.000     0.000     0.000         1\n",
      "\n",
      "    accuracy                          0.896     35217\n",
      "   macro avg      0.776     0.745     0.756     35217\n",
      "weighted avg      0.892     0.896     0.893     35217\n",
      "\n"
     ]
    }
   ],
   "source": [
    "pred_ud_tags = crf.predict(dev_features)\n",
    "print(\"F1 score on Dev Data \")\n",
    "print(metrics.flat_f1_score(dev_ud_tags, pred_ud_tags, average='weighted',labels=crf.classes_))\n",
    "\n",
    "### Look at class wise score\n",
    "print(metrics.flat_classification_report(\n",
    "    dev_ud_tags, pred_ud_tags, labels=crf.classes_, digits=3\n",
    "))"
   ]
  },
  {
   "cell_type": "code",
   "execution_count": 10,
   "metadata": {},
   "outputs": [],
   "source": [
    "test_sentences = []\n",
    "test_ud_tags = []\n",
    "test_features = []\n",
    "\n",
    "with open('Data/Testing_sentences.pkl', 'rb') as f:\n",
    "    test_sentences = pickle.load(f)\n",
    "with open('Data/Testing_ud_tags.pkl', 'rb') as f:\n",
    "    test_ud_tags = pickle.load(f)\n",
    "with open('Data/Testing_features.pkl', 'rb') as f:\n",
    "    test_features = pickle.load(f)"
   ]
  },
  {
   "cell_type": "code",
   "execution_count": 11,
   "metadata": {},
   "outputs": [
    {
     "name": "stdout",
     "output_type": "stream",
     "text": [
      "F1 score on Test Data \n",
      "0.8966326551632596\n"
     ]
    },
    {
     "name": "stderr",
     "output_type": "stream",
     "text": [
      "/home/zubair/anaconda3/envs/NLP/lib/python3.6/site-packages/sklearn/metrics/classification.py:1439: UndefinedMetricWarning: F-score is ill-defined and being set to 0.0 in labels with no true samples.\n",
      "  'recall', 'true', average, warn_for)\n",
      "/home/zubair/anaconda3/envs/NLP/lib/python3.6/site-packages/sklearn/metrics/classification.py:1439: UndefinedMetricWarning: Recall and F-score are ill-defined and being set to 0.0 in labels with no true samples.\n",
      "  'recall', 'true', average, warn_for)\n"
     ]
    },
    {
     "name": "stdout",
     "output_type": "stream",
     "text": [
      "              precision    recall  f1-score   support\n",
      "\n",
      "         det      0.999     0.994     0.996       711\n",
      "        nmod      0.880     0.840     0.860      3687\n",
      "        case      0.999     1.000     0.999      6900\n",
      "      advmod      0.979     0.920     0.949       351\n",
      "        amod      0.979     0.982     0.981      1309\n",
      "        root      0.931     0.917     0.924      1684\n",
      "         cop      0.897     0.942     0.919       380\n",
      "       punct      0.998     0.998     0.998      2425\n",
      "         obj      0.603     0.595     0.599      1802\n",
      "    compound      0.918     0.955     0.936      3857\n",
      "       nsubj      0.742     0.776     0.758      1985\n",
      "         aux      0.928     0.903     0.916      1062\n",
      "      nummod      0.978     0.987     0.983       546\n",
      "          cc      1.000     0.997     0.998       649\n",
      "         obl      0.820     0.918     0.866      3070\n",
      "       advcl      0.859     0.817     0.838       404\n",
      "        mark      0.999     0.999     0.999      1430\n",
      "        conj      0.526     0.436     0.477       748\n",
      "         acl      0.739     0.539     0.623       258\n",
      "         dep      0.998     0.992     0.995       511\n",
      "   acl:relcl      0.240     0.103     0.144       117\n",
      "    aux:pass      0.912     0.938     0.925      1151\n",
      "  dislocated      0.971     0.773     0.861        44\n",
      "  nsubj:pass      0.423     0.262     0.324        42\n",
      "       xcomp      0.229     0.186     0.205        43\n",
      "        iobj      0.481     0.330     0.391       264\n",
      "    vocative      0.000     0.000     0.000         0\n",
      "\n",
      "   micro avg      0.899     0.899     0.899     35430\n",
      "   macro avg      0.779     0.744     0.758     35430\n",
      "weighted avg      0.896     0.899     0.897     35430\n",
      "\n"
     ]
    }
   ],
   "source": [
    "pred_test_ud_tags = crf.predict(test_features)\n",
    "print(\"F1 score on Test Data \")\n",
    "print(metrics.flat_f1_score(test_ud_tags, pred_test_ud_tags, average='weighted',labels=crf.classes_))\n",
    "### Look at class wise score\n",
    "print(metrics.flat_classification_report(\n",
    "    test_ud_tags, pred_test_ud_tags, labels=crf.classes_, digits=3\n",
    "))"
   ]
  },
  {
   "cell_type": "code",
   "execution_count": 12,
   "metadata": {},
   "outputs": [],
   "source": [
    "with open('crf_model.pkl', 'wb') as model:\n",
    "    pickle.dump(crf, model)"
   ]
  },
  {
   "cell_type": "code",
   "execution_count": null,
   "metadata": {},
   "outputs": [],
   "source": []
  },
  {
   "cell_type": "code",
   "execution_count": null,
   "metadata": {},
   "outputs": [],
   "source": []
  }
 ],
 "metadata": {
  "kernelspec": {
   "display_name": "Python 3",
   "language": "python",
   "name": "python3"
  },
  "language_info": {
   "codemirror_mode": {
    "name": "ipython",
    "version": 3
   },
   "file_extension": ".py",
   "mimetype": "text/x-python",
   "name": "python",
   "nbconvert_exporter": "python",
   "pygments_lexer": "ipython3",
   "version": "3.6.7"
  }
 },
 "nbformat": 4,
 "nbformat_minor": 4
}
